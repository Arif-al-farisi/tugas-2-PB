{
  "nbformat": 4,
  "nbformat_minor": 0,
  "metadata": {
    "colab": {
      "provenance": [],
      "authorship_tag": "ABX9TyN6DPejl4m+nnKVawujtgnX",
      "include_colab_link": true
    },
    "kernelspec": {
      "name": "python3",
      "display_name": "Python 3"
    },
    "language_info": {
      "name": "python"
    }
  },
  "cells": [
    {
      "cell_type": "markdown",
      "metadata": {
        "id": "view-in-github",
        "colab_type": "text"
      },
      "source": [
        "<a href=\"https://colab.research.google.com/github/Arif-al-farisi/tugas-2-PB/blob/main/CetakKRS.ipynb\" target=\"_parent\"><img src=\"https://colab.research.google.com/assets/colab-badge.svg\" alt=\"Open In Colab\"/></a>"
      ]
    },
    {
      "cell_type": "code",
      "execution_count": 11,
      "metadata": {
        "colab": {
          "base_uri": "https://localhost:8080/"
        },
        "id": "g8fMeNvW72dY",
        "outputId": "82c56682-6a2a-446c-a214-c4e37c83060d"
      },
      "outputs": [
        {
          "output_type": "stream",
          "name": "stdout",
          "text": [
            "=== KARTU RENCANA STUDI (KRS) ===\n",
            "Nama Mahasiswa :  Arif al farisi\n",
            "NIM            :  230705080\n",
            "Mata Kuliah yang diambil:\n",
            "  1. PBO\n",
            "  2. Algoritma\n",
            "  3. Matematika Diskrit\n"
          ]
        }
      ],
      "source": [
        "class CetakKRS:\n",
        "    def __init__(self, nama, nim, matkul1, matkul2, matkul3):\n",
        "        self.nama = nama           # Nama mahasiswa\n",
        "        self.nim = nim             # NIM mahasiswa\n",
        "        self.matkul1 = matkul1     # Mata kuliah 1\n",
        "        self.matkul2 = matkul2     # Mata kuliah 2\n",
        "        self.matkul3 = matkul3     # Mata kuliah 3\n",
        "\n",
        "    def tampilkan_krs(self):\n",
        "        print(\"=== KARTU RENCANA STUDI (KRS) ===\")\n",
        "        print(\"Nama Mahasiswa : \", self.nama)\n",
        "        print(\"NIM            : \", self.nim)\n",
        "        print(\"Mata Kuliah yang diambil:\")\n",
        "        print(\"  1.\", self.matkul1)\n",
        "        print(\"  2.\", self.matkul2)\n",
        "        print(\"  3.\", self.matkul3)\n",
        "\n",
        "# Membuat objek dan mencetak KRS\n",
        "krs1 = CetakKRS(\"Arif al farisi\", \"230705080\", \"PBO\", \"Algoritma\", \"Matematika Diskrit\")\n",
        "krs1.tampilkan_krs()\n"
      ]
    }
  ]
}