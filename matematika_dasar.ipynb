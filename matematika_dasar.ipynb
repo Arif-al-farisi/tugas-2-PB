{
  "nbformat": 4,
  "nbformat_minor": 0,
  "metadata": {
    "colab": {
      "provenance": [],
      "authorship_tag": "ABX9TyOJ8Fj8bEpI+rzAS892IdCw",
      "include_colab_link": true
    },
    "kernelspec": {
      "name": "python3",
      "display_name": "Python 3"
    },
    "language_info": {
      "name": "python"
    }
  },
  "cells": [
    {
      "cell_type": "markdown",
      "metadata": {
        "id": "view-in-github",
        "colab_type": "text"
      },
      "source": [
        "<a href=\"https://colab.research.google.com/github/Arif-al-farisi/tugas-2-PB/blob/main/matematika_dasar.ipynb\" target=\"_parent\"><img src=\"https://colab.research.google.com/assets/colab-badge.svg\" alt=\"Open In Colab\"/></a>"
      ]
    },
    {
      "cell_type": "code",
      "execution_count": 10,
      "metadata": {
        "colab": {
          "base_uri": "https://localhost:8080/"
        },
        "id": "g8fMeNvW72dY",
        "outputId": "566d6475-187b-4b80-9616-e528afe02660"
      },
      "outputs": [
        {
          "output_type": "stream",
          "name": "stdout",
          "text": [
            "=== Detail Transaksi Raisa ===\n",
            "Harga awal baju       : Rp 120000\n",
            "Diskon (40%)         : Rp 48000\n",
            "Total yang dibayar    : Rp 72000\n"
          ]
        }
      ],
      "source": [
        "class DiskonBelanja:\n",
        "    def __init__(self, harga_awal, persen_diskon):\n",
        "        self.harga_awal = harga_awal          # Harga sebelum diskon\n",
        "        self.persen_diskon = persen_diskon    # Persentase diskon\n",
        "\n",
        "    def hitung_diskon(self):\n",
        "        return (self.persen_diskon / 100) * self.harga_awal\n",
        "\n",
        "    def harga_setelah_diskon(self):\n",
        "        return self.harga_awal - self.hitung_diskon()\n",
        "\n",
        "# Membuat objek berdasarkan kasus Raisa\n",
        "arif_baju = DiskonBelanja(120000, 40)\n",
        "\n",
        "# Menampilkan hasil\n",
        "print(\"=== Detail Transaksi Raisa ===\")\n",
        "print(\"Harga awal baju       : Rp\", arif_baju.harga_awal)\n",
        "print(\"Diskon ({}%)         : Rp\".format(arif_baju.persen_diskon), int(arif_baju.hitung_diskon()))\n",
        "print(\"Total yang dibayar    : Rp\", int(arif_baju.harga_setelah_diskon()))\n"
      ]
    }
  ]
}