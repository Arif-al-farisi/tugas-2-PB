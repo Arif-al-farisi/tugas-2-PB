{
  "nbformat": 4,
  "nbformat_minor": 0,
  "metadata": {
    "colab": {
      "provenance": [],
      "authorship_tag": "ABX9TyNFiN0AE21EwUYSgTQdFAaz",
      "include_colab_link": true
    },
    "kernelspec": {
      "name": "python3",
      "display_name": "Python 3"
    },
    "language_info": {
      "name": "python"
    }
  },
  "cells": [
    {
      "cell_type": "markdown",
      "metadata": {
        "id": "view-in-github",
        "colab_type": "text"
      },
      "source": [
        "<a href=\"https://colab.research.google.com/github/Arif-al-farisi/tugas-2-PB/blob/main/matematika_dasar.ipynb\" target=\"_parent\"><img src=\"https://colab.research.google.com/assets/colab-badge.svg\" alt=\"Open In Colab\"/></a>"
      ]
    },
    {
      "cell_type": "code",
      "execution_count": 8,
      "metadata": {
        "colab": {
          "base_uri": "https://localhost:8080/"
        },
        "id": "g8fMeNvW72dY",
        "outputId": "4d6bf815-49ae-4b2f-8f40-33bb0d74d0f0"
      },
      "outputs": [
        {
          "output_type": "stream",
          "name": "stdout",
          "text": [
            "Penjumlahan: 16\n",
            "Pengurangan: 8\n",
            "Perkalian: 48\n",
            "Pembagian: 3.0\n"
          ]
        }
      ],
      "source": [
        "class MatematikaDasar:\n",
        "    def __init__(self, a, b):\n",
        "        self.a = a  # Bilangan pertama\n",
        "        self.b = b  # Bilangan kedua\n",
        "\n",
        "    def tambah(self):\n",
        "        return self.a + self.b\n",
        "\n",
        "    def kurang(self):\n",
        "        return self.a - self.b\n",
        "\n",
        "    def kali(self):\n",
        "        return self.a * self.b\n",
        "\n",
        "    def bagi(self):\n",
        "        if self.b != 0:\n",
        "            return self.a / self.b\n",
        "        else:\n",
        "            return \"Tidak bisa dibagi dengan nol\"\n",
        "\n",
        "# Membuat objek dari class MatematikaDasar\n",
        "hitung = MatematikaDasar(12, 4)\n",
        "\n",
        "# Memanggil method dan menampilkan hasil\n",
        "print(\"Penjumlahan:\", hitung.tambah())\n",
        "print(\"Pengurangan:\", hitung.kurang())\n",
        "print(\"Perkalian:\", hitung.kali())\n",
        "print(\"Pembagian:\", hitung.bagi())\n"
      ]
    }
  ]
}