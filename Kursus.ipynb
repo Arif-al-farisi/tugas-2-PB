{
  "nbformat": 4,
  "nbformat_minor": 0,
  "metadata": {
    "colab": {
      "provenance": [],
      "authorship_tag": "ABX9TyMju3bmC89zsJiYusqueY+a",
      "include_colab_link": true
    },
    "kernelspec": {
      "name": "python3",
      "display_name": "Python 3"
    },
    "language_info": {
      "name": "python"
    }
  },
  "cells": [
    {
      "cell_type": "markdown",
      "metadata": {
        "id": "view-in-github",
        "colab_type": "text"
      },
      "source": [
        "<a href=\"https://colab.research.google.com/github/Arif-al-farisi/tugas-2-PB/blob/main/Kursus.ipynb\" target=\"_parent\"><img src=\"https://colab.research.google.com/assets/colab-badge.svg\" alt=\"Open In Colab\"/></a>"
      ]
    },
    {
      "cell_type": "code",
      "execution_count": 6,
      "metadata": {
        "colab": {
          "base_uri": "https://localhost:8080/"
        },
        "id": "g8fMeNvW72dY",
        "outputId": "817bcc11-6fac-4a64-a40a-64effeab3311"
      },
      "outputs": [
        {
          "output_type": "stream",
          "name": "stdout",
          "text": [
            "[Matkul] PBO (MAT123) - 3 SKS, Semester 2\n"
          ]
        }
      ],
      "source": [
        "class Kursus:\n",
        "    def __init__(self, id_kursus, nama_kursus, total_sks, semester):\n",
        "        self.id_kursus = id_kursus      # Kode kursus\n",
        "        self.nama_kursus = nama_kursus  # Nama kursus\n",
        "        self.total_sks = total_sks      # Jumlah SKS\n",
        "        self.semester = semester        # Semester pengambilan\n",
        "\n",
        "    def tampil_data(self):\n",
        "        print(f\"[Matkul] {self.nama_kursus} ({self.id_kursus}) - {self.total_sks} SKS, Semester {self.semester}\")\n",
        "\n",
        "# inisialisasi Object-nya\n",
        "mk1 = Kursus(\"MAT123\", \"PBO\", 3, 2)\n",
        "mk1.tampil_data()\n"
      ]
    }
  ]
}