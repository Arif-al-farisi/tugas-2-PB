{
  "nbformat": 4,
  "nbformat_minor": 0,
  "metadata": {
    "colab": {
      "provenance": [],
      "authorship_tag": "ABX9TyMAkPU3eoPF8AxdO5w4K+iO",
      "include_colab_link": true
    },
    "kernelspec": {
      "name": "python3",
      "display_name": "Python 3"
    },
    "language_info": {
      "name": "python"
    }
  },
  "cells": [
    {
      "cell_type": "markdown",
      "metadata": {
        "id": "view-in-github",
        "colab_type": "text"
      },
      "source": [
        "<a href=\"https://colab.research.google.com/github/Arif-al-farisi/tugas-2-PB/blob/main/mahasiswa.ipynb\" target=\"_parent\"><img src=\"https://colab.research.google.com/assets/colab-badge.svg\" alt=\"Open In Colab\"/></a>"
      ]
    },
    {
      "cell_type": "code",
      "execution_count": 5,
      "metadata": {
        "colab": {
          "base_uri": "https://localhost:8080/"
        },
        "id": "g8fMeNvW72dY",
        "outputId": "0b70413e-1dd5-4bbf-e5ab-445541d6bcd8"
      },
      "outputs": [
        {
          "output_type": "stream",
          "name": "stdout",
          "text": [
            "Nama: Arif, NIM: 230705080, Jurusan: Teknik Informatika\n"
          ]
        }
      ],
      "source": [
        "class Mahasiswa:\n",
        "    # Konstruktor untuk inisialisasi atribut\n",
        "    def __init__(self, nama, nim, jurusan):\n",
        "        self.nama = nama\n",
        "        self.nim = nim\n",
        "        self.jurusan = jurusan\n",
        "\n",
        "    # Method untuk menampilkan data mahasiswa\n",
        "    def tampilkan_info(self):\n",
        "        print(f\"Nama: {self.nama}, NIM: {self.nim}, Jurusan: {self.jurusan}\")\n",
        "\n",
        "mhs1 = Mahasiswa(\"Arif\", \"230705080\", \"Teknik Informatika\")\n",
        "mhs1.tampilkan_info()"
      ]
    }
  ]
}