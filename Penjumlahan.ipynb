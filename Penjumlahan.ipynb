{
  "nbformat": 4,
  "nbformat_minor": 0,
  "metadata": {
    "colab": {
      "provenance": [],
      "authorship_tag": "ABX9TyM3n8fpO65IqcqfJMDmQSrU",
      "include_colab_link": true
    },
    "kernelspec": {
      "name": "python3",
      "display_name": "Python 3"
    },
    "language_info": {
      "name": "python"
    }
  },
  "cells": [
    {
      "cell_type": "markdown",
      "metadata": {
        "id": "view-in-github",
        "colab_type": "text"
      },
      "source": [
        "<a href=\"https://colab.research.google.com/github/Arif-al-farisi/tugas-2-PB/blob/main/Penjumlahan.ipynb\" target=\"_parent\"><img src=\"https://colab.research.google.com/assets/colab-badge.svg\" alt=\"Open In Colab\"/></a>"
      ]
    },
    {
      "cell_type": "code",
      "execution_count": 7,
      "metadata": {
        "colab": {
          "base_uri": "https://localhost:8080/"
        },
        "id": "g8fMeNvW72dY",
        "outputId": "d3a9fe12-d7b7-48ee-8976-7857c8cbf5e2"
      },
      "outputs": [
        {
          "output_type": "stream",
          "name": "stdout",
          "text": [
            "Hasil penjumlahan: 35\n"
          ]
        }
      ],
      "source": [
        "class Penjumlahan:\n",
        "    def __init__(self, angka1, angka2):\n",
        "        self.angka1 = angka1  # Angka pertama\n",
        "        self.angka2 = angka2  # Angka kedua\n",
        "\n",
        "    def hitung_total(self):\n",
        "        hasil = self.angka1 + self.angka2  # Menjumlahkan kedua angka\n",
        "        print(f\"Hasil penjumlahan: {hasil}\")\n",
        "\n",
        "# Membuat objek dari class Penjumlahan\n",
        "objek1 = Penjumlahan(10, 25)\n",
        "objek1.hitung_total()  # Output: Hasil penjumlahan: 35\n"
      ]
    }
  ]
}